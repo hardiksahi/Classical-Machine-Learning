{
 "cells": [
  {
   "cell_type": "markdown",
   "id": "d2b1f63a-e230-4ced-9192-26b140c7eb51",
   "metadata": {},
   "source": [
    "## Follow https://umap-learn.readthedocs.io/en/latest/transform.html\n",
    "- Idea is to use UMAP to learn low dimensional latent space and train an ML model on top of it"
   ]
  },
  {
   "cell_type": "code",
   "execution_count": 1,
   "id": "081da451-5d33-4fb6-b95b-be19638c741d",
   "metadata": {},
   "outputs": [],
   "source": [
    "import numpy as np\n",
    "import pandas as pd"
   ]
  },
  {
   "cell_type": "code",
   "execution_count": 2,
   "id": "dbc36fc5-9127-4bd6-b396-fddb05b7c71b",
   "metadata": {},
   "outputs": [
    {
     "name": "stderr",
     "output_type": "stream",
     "text": [
      "/Users/hardiksahi/Personal/Classical-Machine-Learning/classical_ml_env/lib/python3.9/site-packages/tqdm/auto.py:21: TqdmWarning: IProgress not found. Please update jupyter and ipywidgets. See https://ipywidgets.readthedocs.io/en/stable/user_install.html\n",
      "  from .autonotebook import tqdm as notebook_tqdm\n",
      "/Users/hardiksahi/Personal/Classical-Machine-Learning/classical_ml_env/lib/python3.9/site-packages/numba/np/ufunc/dufunc.py:343: NumbaWarning: Compilation requested for previously compiled argument types ((uint32,)). This has no effect and perhaps indicates a bug in the calling code (compiling a ufunc more than once for the same signature\n",
      "  warnings.warn(msg, errors.NumbaWarning)\n",
      "/Users/hardiksahi/Personal/Classical-Machine-Learning/classical_ml_env/lib/python3.9/site-packages/numba/np/ufunc/dufunc.py:343: NumbaWarning: Compilation requested for previously compiled argument types ((uint32,)). This has no effect and perhaps indicates a bug in the calling code (compiling a ufunc more than once for the same signature\n",
      "  warnings.warn(msg, errors.NumbaWarning)\n",
      "/Users/hardiksahi/Personal/Classical-Machine-Learning/classical_ml_env/lib/python3.9/site-packages/numba/np/ufunc/dufunc.py:343: NumbaWarning: Compilation requested for previously compiled argument types ((uint32,)). This has no effect and perhaps indicates a bug in the calling code (compiling a ufunc more than once for the same signature\n",
      "  warnings.warn(msg, errors.NumbaWarning)\n"
     ]
    }
   ],
   "source": [
    "import umap\n",
    "import umap.plot"
   ]
  },
  {
   "cell_type": "code",
   "execution_count": 29,
   "id": "79a2c819-2d83-45eb-8e5d-81f2e1a1a7fe",
   "metadata": {},
   "outputs": [],
   "source": [
    "import matplotlib.pyplot as plt\n",
    "import seaborn as sns"
   ]
  },
  {
   "cell_type": "code",
   "execution_count": 3,
   "id": "2b512081-c8ad-4148-8d9c-1ec92a08438b",
   "metadata": {},
   "outputs": [],
   "source": [
    "from sklearn.datasets import load_digits\n",
    "from sklearn.model_selection import train_test_split, cross_val_score\n",
    "from sklearn.neighbors import KNeighborsClassifier\n",
    "from sklearn.svm import SVC"
   ]
  },
  {
   "cell_type": "code",
   "execution_count": 9,
   "id": "07314e38-b038-4ab2-8139-3e40e11638e1",
   "metadata": {},
   "outputs": [],
   "source": [
    "from sklearn.pipeline import Pipeline\n",
    "from sklearn.preprocessing import StandardScaler"
   ]
  },
  {
   "cell_type": "code",
   "execution_count": 4,
   "id": "6dbd36ed-0f39-4ecb-bc3b-87172e28ad16",
   "metadata": {},
   "outputs": [],
   "source": [
    "digits = load_digits()"
   ]
  },
  {
   "cell_type": "code",
   "execution_count": 6,
   "id": "98f6f269-e25e-46cf-a1ea-89960f7f37dc",
   "metadata": {},
   "outputs": [
    {
     "name": "stdout",
     "output_type": "stream",
     "text": [
      "Shape of X: (1797, 64)\n",
      "Shape of y: (1797,)\n"
     ]
    }
   ],
   "source": [
    "X = digits.data\n",
    "y = digits.target\n",
    "print(f\"Shape of X: {X.shape}\")\n",
    "print(f\"Shape of y: {y.shape}\")"
   ]
  },
  {
   "cell_type": "code",
   "execution_count": 7,
   "id": "cda8d2ee-1c51-41f2-9376-43c58ba0fb1d",
   "metadata": {},
   "outputs": [
    {
     "name": "stdout",
     "output_type": "stream",
     "text": [
      "Shape of X_train: (1347, 64)\n",
      "Shape of X_test: (450, 64)\n"
     ]
    }
   ],
   "source": [
    "## Split data into train and test datasets\n",
    "X_train, X_test, y_train, y_test = train_test_split(X,y,stratify=y, random_state=42)\n",
    "print(f\"Shape of X_train: {X_train.shape}\")\n",
    "print(f\"Shape of X_test: {X_test.shape}\")"
   ]
  },
  {
   "cell_type": "markdown",
   "id": "105984cc-f9d0-4c3c-ae4b-b69cd3f9c033",
   "metadata": {},
   "source": [
    "## 1. Train model without dimensionality reduction using UMAP"
   ]
  },
  {
   "cell_type": "code",
   "execution_count": 13,
   "id": "782d9a1f-977f-45bb-92e1-35eb3c170a96",
   "metadata": {},
   "outputs": [],
   "source": [
    "svc_pipeline = Pipeline(steps=[('scaler', StandardScaler(with_mean=True, with_std=True)), ('svc', SVC())])\n",
    "svc_pipeline.fit(X_train, y_train)\n",
    "svc_prediction = svc_pipeline.predict(X_test)"
   ]
  },
  {
   "cell_type": "code",
   "execution_count": 15,
   "id": "da7db57b-2b81-4708-8d90-f2fae789ca30",
   "metadata": {},
   "outputs": [],
   "source": [
    "knn_pipeline = Pipeline(steps=[('scaler', StandardScaler(with_mean=True, with_std=True)), ('knn', KNeighborsClassifier())])\n",
    "knn_pipeline.fit(X_train, y_train)\n",
    "knn_prediction = knn_pipeline.predict(X_test)"
   ]
  },
  {
   "cell_type": "code",
   "execution_count": 19,
   "id": "9309bd80-fef8-4bb0-a774-ce790b0b173f",
   "metadata": {},
   "outputs": [
    {
     "data": {
      "text/plain": [
       "(0.98, 0.9644444444444444)"
      ]
     },
     "execution_count": 19,
     "metadata": {},
     "output_type": "execute_result"
    }
   ],
   "source": [
    "svc_pipeline.score(X_test, y_test), knn_pipeline.score(X_test, y_test)"
   ]
  },
  {
   "cell_type": "markdown",
   "id": "55bd9dd2-6a2c-42c7-a590-1768365b6ad0",
   "metadata": {},
   "source": [
    "## 2. Train model with UMAP reduction to 2 components"
   ]
  },
  {
   "cell_type": "code",
   "execution_count": 20,
   "id": "8c55767a-506c-4a10-9e0d-5a83126fa987",
   "metadata": {},
   "outputs": [
    {
     "name": "stderr",
     "output_type": "stream",
     "text": [
      "/Users/hardiksahi/Personal/Classical-Machine-Learning/classical_ml_env/lib/python3.9/site-packages/sklearn/utils/deprecation.py:151: FutureWarning: 'force_all_finite' was renamed to 'ensure_all_finite' in 1.6 and will be removed in 1.8.\n",
      "  warnings.warn(\n",
      "/Users/hardiksahi/Personal/Classical-Machine-Learning/classical_ml_env/lib/python3.9/site-packages/umap/umap_.py:1952: UserWarning: n_jobs value 1 overridden to 1 by setting random_state. Use no seed for parallelism.\n",
      "  warn(\n",
      "/Users/hardiksahi/Personal/Classical-Machine-Learning/classical_ml_env/lib/python3.9/site-packages/sklearn/utils/deprecation.py:151: FutureWarning: 'force_all_finite' was renamed to 'ensure_all_finite' in 1.6 and will be removed in 1.8.\n",
      "  warnings.warn(\n",
      "/Users/hardiksahi/Personal/Classical-Machine-Learning/classical_ml_env/lib/python3.9/site-packages/sklearn/utils/deprecation.py:151: FutureWarning: 'force_all_finite' was renamed to 'ensure_all_finite' in 1.6 and will be removed in 1.8.\n",
      "  warnings.warn(\n"
     ]
    }
   ],
   "source": [
    "umap_svc_pipeline = Pipeline(steps=[('scaler', StandardScaler(with_mean=True, with_std=True)), ('umap', umap.UMAP(n_neighbors=5, random_state=42)), ('svc', SVC())])\n",
    "umap_svc_pipeline.fit(X_train, y_train)\n",
    "umap_svc_prediction = umap_svc_pipeline.predict(X_test)"
   ]
  },
  {
   "cell_type": "code",
   "execution_count": 22,
   "id": "ab215aee-957f-4029-9dc4-b10c4f911a83",
   "metadata": {},
   "outputs": [
    {
     "name": "stderr",
     "output_type": "stream",
     "text": [
      "/Users/hardiksahi/Personal/Classical-Machine-Learning/classical_ml_env/lib/python3.9/site-packages/sklearn/utils/deprecation.py:151: FutureWarning: 'force_all_finite' was renamed to 'ensure_all_finite' in 1.6 and will be removed in 1.8.\n",
      "  warnings.warn(\n",
      "/Users/hardiksahi/Personal/Classical-Machine-Learning/classical_ml_env/lib/python3.9/site-packages/umap/umap_.py:1952: UserWarning: n_jobs value 1 overridden to 1 by setting random_state. Use no seed for parallelism.\n",
      "  warn(\n",
      "/Users/hardiksahi/Personal/Classical-Machine-Learning/classical_ml_env/lib/python3.9/site-packages/sklearn/utils/deprecation.py:151: FutureWarning: 'force_all_finite' was renamed to 'ensure_all_finite' in 1.6 and will be removed in 1.8.\n",
      "  warnings.warn(\n",
      "/Users/hardiksahi/Personal/Classical-Machine-Learning/classical_ml_env/lib/python3.9/site-packages/sklearn/utils/deprecation.py:151: FutureWarning: 'force_all_finite' was renamed to 'ensure_all_finite' in 1.6 and will be removed in 1.8.\n",
      "  warnings.warn(\n"
     ]
    }
   ],
   "source": [
    "umap_knn_pipeline = Pipeline(steps=[('scaler', StandardScaler(with_mean=True, with_std=True)), ('umap', umap.UMAP(n_neighbors=5, random_state=42)), ('knn', KNeighborsClassifier())])\n",
    "umap_knn_pipeline.fit(X_train, y_train)\n",
    "umap_knn_prediction = umap_knn_pipeline.predict(X_test)"
   ]
  },
  {
   "cell_type": "code",
   "execution_count": 32,
   "id": "9154f58c-311c-41c9-b7e6-16f0057b6515",
   "metadata": {},
   "outputs": [
    {
     "name": "stderr",
     "output_type": "stream",
     "text": [
      "/Users/hardiksahi/Personal/Classical-Machine-Learning/classical_ml_env/lib/python3.9/site-packages/sklearn/utils/deprecation.py:151: FutureWarning: 'force_all_finite' was renamed to 'ensure_all_finite' in 1.6 and will be removed in 1.8.\n",
      "  warnings.warn(\n",
      "/Users/hardiksahi/Personal/Classical-Machine-Learning/classical_ml_env/lib/python3.9/site-packages/sklearn/utils/deprecation.py:151: FutureWarning: 'force_all_finite' was renamed to 'ensure_all_finite' in 1.6 and will be removed in 1.8.\n",
      "  warnings.warn(\n"
     ]
    },
    {
     "data": {
      "text/plain": [
       "(0.9644444444444444, 0.9644444444444444)"
      ]
     },
     "execution_count": 32,
     "metadata": {},
     "output_type": "execute_result"
    }
   ],
   "source": [
    "umap_svc_pipeline.score(X_test, y_test), umap_knn_pipeline.score(X_test, y_test)"
   ]
  },
  {
   "cell_type": "code",
   "execution_count": 30,
   "id": "298aa94c-c27a-4157-b9d1-e46513ff0d84",
   "metadata": {},
   "outputs": [
    {
     "data": {
      "image/png": "[encoded data removed]",
      "text/plain": [
       "<Figure size 640x480 with 1 Axes>"
      ]
     },
     "metadata": {},
     "output_type": "display_data"
    }
   ],
   "source": [
    "plt.scatter(umap_knn_pipeline.named_steps[\"umap\"].embedding_[:, 0], umap_knn_pipeline.named_steps[\"umap\"].embedding_[:, 1], s= 5, c=y_train, cmap='Spectral')\n",
    "plt.title('Embedding of the training set by UMAP', fontsize=24);"
   ]
  },
  {
   "cell_type": "code",
   "execution_count": null,
   "id": "18702b74-fb81-46df-82d9-1b7fc2964a06",
   "metadata": {},
   "outputs": [],
   "source": []
  }
 ],
 "metadata": {
  "kernelspec": {
   "display_name": "classical_ml_env",
   "language": "python",
   "name": "classical_ml_env"
  },
  "language_info": {
   "codemirror_mode": {
    "name": "ipython",
    "version": 3
   },
   "file_extension": ".py",
   "mimetype": "text/x-python",
   "name": "python",
   "nbconvert_exporter": "python",
   "pygments_lexer": "ipython3",
   "version": "3.9.17"
  }
 },
 "nbformat": 4,
 "nbformat_minor": 5
}
